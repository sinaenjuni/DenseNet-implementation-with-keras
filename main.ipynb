{
 "cells": [
  {
   "cell_type": "code",
   "execution_count": 1,
   "metadata": {},
   "outputs": [
    {
     "name": "stderr",
     "output_type": "stream",
     "text": [
      "Using TensorFlow backend.\n"
     ]
    }
   ],
   "source": [
    "from __future__ import absolute_import\n",
    "from __future__ import division\n",
    "from __future__ import print_function\n",
    "\n",
    "import os\n",
    "\n",
    "from keras import backend\n",
    "\n",
    "from keras.layers import AveragePooling2D, Input\n",
    "\n",
    "from keras import layers, models\n",
    "\n",
    "from keras.optimizers import Adam, SGD\n",
    "\n",
    "from keras.callbacks import CSVLogger, LearningRateScheduler\n",
    "\n",
    "\n",
    "import sys\n",
    "sys.path.insert(0, './')\n",
    "import DenseNet\n",
    "\n",
    "# --! cifar-10\n",
    "\n",
    "# --! main.lua \n",
    "# --! -netType densenet \n",
    "# --! -dataset cifar10 \n",
    "# --! -batchSize 64 \n",
    "# --! -nEpochs 300 \n",
    "# --! -depth 100 \n",
    "# --! -growthRate 12\n",
    "\n",
    "\n"
   ]
  },
  {
   "cell_type": "code",
   "execution_count": 4,
   "metadata": {},
   "outputs": [
    {
     "data": {
      "text/plain": [
       "'densenet50'"
      ]
     },
     "execution_count": 4,
     "metadata": {},
     "output_type": "execute_result"
    }
   ],
   "source": [
    "# def main():\n",
    "input = Input(shape=(32, 32, 3))\n",
    "model = DenseNet.DenseNet(depth=50,\n",
    "                            growthRate=12,\n",
    "                            include_top=True, \n",
    "                            data_set='cifar10',\n",
    "                            input_shape=(32,32,3),\n",
    "                            pooling='avg',\n",
    "                            classes=10)\n",
    "# model.summary()\n",
    "model.name\n",
    "\n"
   ]
  },
  {
   "cell_type": "markdown",
   "metadata": {},
   "source": [
    "# 또는"
   ]
  },
  {
   "cell_type": "code",
   "execution_count": 7,
   "metadata": {},
   "outputs": [
    {
     "data": {
      "text/plain": [
       "'densenet113'"
      ]
     },
     "execution_count": 7,
     "metadata": {},
     "output_type": "execute_result"
    }
   ],
   "source": [
    "input = Input(shape=(32, 32, 3))\n",
    "model = DenseNet.DenseNet(depth=[6,12,24,12],\n",
    "                            growthRate=32,\n",
    "                            include_top=True, \n",
    "                            data_set='imagenet',\n",
    "                            input_shape=(32,32,3),\n",
    "                            pooling='avg',\n",
    "                            classes=10)\n",
    "# model.summary()\n",
    "model.name\n",
    "\n"
   ]
  },
  {
   "cell_type": "code",
   "execution_count": 3,
   "metadata": {},
   "outputs": [],
   "source": [
    "from keras.datasets import cifar10\n",
    "import keras\n",
    "from keras.utils import to_categorical\n",
    "import numpy as np"
   ]
  },
  {
   "cell_type": "code",
   "execution_count": 4,
   "metadata": {},
   "outputs": [
    {
     "name": "stdout",
     "output_type": "stream",
     "text": [
      "Train (50000, 32, 32, 3) (50000, 1)\n",
      "Test ((10000, 32, 32, 3), (10000, 1))\n",
      "Train 0 255 120.70756512369792 64.1500758911213\n",
      "Test 0 255 121.52915475260417 64.06097012299574\n"
     ]
    }
   ],
   "source": [
    "# Load the CIFAR10 data.\n",
    "(x_train, y_train), (x_test, y_test) = cifar10.load_data()\n",
    "\n",
    "# summarize dataset shape\n",
    "print('Train', x_train.shape, y_train.shape)\n",
    "print('Test', (x_test.shape, y_test.shape))\n",
    "\n",
    "# summarize pixel values\n",
    "print('Train', x_train.min(), x_train.max(), x_train.mean(), x_train.std())\n",
    "print('Test', x_test.min(), x_test.max(), x_test.mean(), x_test.std())"
   ]
  },
  {
   "cell_type": "code",
   "execution_count": 5,
   "metadata": {},
   "outputs": [
    {
     "name": "stdout",
     "output_type": "stream",
     "text": [
      "x_train shape: (50000, 32, 32, 3)\n",
      "50000 train samples\n",
      "10000 test samples\n",
      "y_train shape: (50000, 1)\n",
      "Train (50000, 32, 32, 3) (50000, 10)\n",
      "Test (10000, 32, 32, 3) (10000, 10)\n",
      "Train -0.5500815 0.60786617 -3.2028754e-07 0.24895683\n",
      "Test -0.5500815 0.60786617 0.0032215924 0.24854434\n"
     ]
    }
   ],
   "source": [
    "# Input image dimensions.\n",
    "input_shape = x_train.shape[1:]\n",
    "\n",
    "# Normalize data.\n",
    "x_train = x_train.astype('float32') / 255\n",
    "x_test = x_test.astype('float32') / 255\n",
    "\n",
    "subtract_pixel_mean = True\n",
    "# # If subtract pixel mean is enabled\n",
    "if subtract_pixel_mean:\n",
    "    x_train_mean = np.mean(x_train, axis=0)\n",
    "    x_train -= x_train_mean\n",
    "    x_test -= x_train_mean\n",
    "\n",
    "print('x_train shape:', x_train.shape)\n",
    "print(x_train.shape[0], 'train samples')\n",
    "print(x_test.shape[0], 'test samples')\n",
    "print('y_train shape:', y_train.shape)\n",
    "\n",
    "# Convert class vectors to binary class matrices.\n",
    "y_train = to_categorical(y_train, 10)\n",
    "y_test = to_categorical(y_test, 10)\n",
    "\n",
    "\n",
    "# summarize dataset shape\n",
    "print('Train', x_train.shape, y_train.shape)\n",
    "print('Test', x_test.shape, y_test.shape)\n",
    "# summarize pixel values\n",
    "print('Train', x_train.min(), x_train.max(), x_train.mean(), x_train.std())\n",
    "print('Test', x_test.min(), x_test.max(), x_test.mean(), x_test.std())\n"
   ]
  },
  {
   "cell_type": "code",
   "execution_count": null,
   "metadata": {},
   "outputs": [],
   "source": []
  },
  {
   "cell_type": "code",
   "execution_count": 9,
   "metadata": {},
   "outputs": [
    {
     "name": "stdout",
     "output_type": "stream",
     "text": [
      "Batches 782, 157\n",
      "None\n",
      "None\n"
     ]
    }
   ],
   "source": [
    "from keras.preprocessing.image import ImageDataGenerator\n",
    "\n",
    "train_data_generator = ImageDataGenerator(\n",
    "#         rescale=1./255,\n",
    "        featurewise_center=False,  # set input mean to 0 over the dataset\n",
    "        samplewise_center=False,  # set each sample mean to 0\n",
    "        featurewise_std_normalization=False,  # divide inputs by std of the dataset\n",
    "        samplewise_std_normalization=False,  # divide each input by its std\n",
    "        zca_whitening=False,  # apply ZCA whitening\n",
    "        rotation_range=0,  # randomly rotate images in the range (degrees, 0 to 180)\n",
    "        width_shift_range=False,  # randomly shift images horizontally (fraction of total width)\n",
    "        height_shift_range=False,  # randomly shift images vertically (fraction of total height)\n",
    "        horizontal_flip=True,  # randomly flip images\n",
    "        vertical_flip=False,  # randomly flip images\n",
    "#         validation_split=0.2\n",
    "        )\n",
    "train_data_generator.fit(x_train)\n",
    "train_iterator = train_data_generator.flow(x_train, y_train, batch_size=64, shuffle=True)\n",
    "\n",
    "# train_data_iterator = train_data_generator.flow(x_train, y_train, batch_size=64, subset='training')\n",
    "# validation_data_iterator = train_data_generator.flow(x_train, y_train, batch_size=64, subset='validation')\n",
    "\n",
    "\n",
    "# test_data_generator = ImageDataGenerator()\n",
    "test_data_generator = ImageDataGenerator()\n",
    "test_iterator = test_data_generator.flow(x_test, y_test, batch_size=64)\n",
    "\n",
    "print(f'Batches {len(train_iterator)}, {len(test_iterator)}')\n",
    "\n",
    "print(train_data_generator.mean)\n",
    "print(train_data_generator.std)\n",
    "\n",
    "\n",
    "\n",
    "# test_data_generator.fit(x_train)\n",
    "# test_iterator = train_data_generator.flow(x_test, y_test, batch_size=64)\n",
    "# 실패"
   ]
  },
  {
   "cell_type": "code",
   "execution_count": 7,
   "metadata": {},
   "outputs": [
    {
     "data": {
      "text/plain": [
       "313"
      ]
     },
     "execution_count": 7,
     "metadata": {},
     "output_type": "execute_result"
    }
   ],
   "source": [
    "len(test_iterator)"
   ]
  },
  {
   "cell_type": "code",
   "execution_count": 10,
   "metadata": {
    "scrolled": true
   },
   "outputs": [
    {
     "name": "stdout",
     "output_type": "stream",
     "text": [
      "epoch:  0\n",
      "Learning rate:  0.1\n",
      "Epoch 1/300\n",
      "epoch:  0\n",
      "Learning rate:  0.1\n",
      "782/782 [==============================] - 57s 73ms/step - loss: 1.4728 - acc: 0.4588 - val_loss: 1.1633 - val_acc: 0.5988\n",
      "Epoch 2/300\n",
      "epoch:  1\n",
      "Learning rate:  0.1\n",
      "782/782 [==============================] - 52s 66ms/step - loss: 1.0125 - acc: 0.6407 - val_loss: 1.0605 - val_acc: 0.6347\n",
      "Epoch 3/300\n",
      "epoch:  2\n",
      "Learning rate:  0.1\n",
      "782/782 [==============================] - 52s 66ms/step - loss: 0.8299 - acc: 0.7053 - val_loss: 0.8706 - val_acc: 0.6892\n",
      "Epoch 4/300\n",
      "epoch:  3\n",
      "Learning rate:  0.1\n",
      "782/782 [==============================] - 51s 66ms/step - loss: 0.7091 - acc: 0.7520 - val_loss: 0.9717 - val_acc: 0.6667\n",
      "Epoch 5/300\n",
      "epoch:  4\n",
      "Learning rate:  0.1\n",
      "782/782 [==============================] - 52s 66ms/step - loss: 0.6320 - acc: 0.7799 - val_loss: 0.6323 - val_acc: 0.7778\n",
      "Epoch 6/300\n",
      "epoch:  5\n",
      "Learning rate:  0.1\n",
      "782/782 [==============================] - 52s 66ms/step - loss: 0.5743 - acc: 0.7983 - val_loss: 0.7565 - val_acc: 0.7422\n",
      "Epoch 7/300\n",
      "epoch:  6\n",
      "Learning rate:  0.1\n",
      "782/782 [==============================] - 50s 64ms/step - loss: 0.5329 - acc: 0.8148 - val_loss: 0.5593 - val_acc: 0.8069\n",
      "Epoch 8/300\n",
      "epoch:  7\n",
      "Learning rate:  0.1\n",
      "782/782 [==============================] - 51s 65ms/step - loss: 0.4959 - acc: 0.8284 - val_loss: 0.5137 - val_acc: 0.8256\n",
      "Epoch 9/300\n",
      "epoch:  8\n",
      "Learning rate:  0.1\n",
      "782/782 [==============================] - 50s 64ms/step - loss: 0.4663 - acc: 0.8372 - val_loss: 0.5205 - val_acc: 0.8181\n",
      "Epoch 10/300\n",
      "epoch:  9\n",
      "Learning rate:  0.1\n",
      "782/782 [==============================] - 50s 65ms/step - loss: 0.4360 - acc: 0.8490 - val_loss: 0.6197 - val_acc: 0.8033\n",
      "Epoch 11/300\n",
      "epoch:  10\n",
      "Learning rate:  0.1\n",
      "782/782 [==============================] - 50s 64ms/step - loss: 0.4149 - acc: 0.8539 - val_loss: 0.4758 - val_acc: 0.8396\n",
      "Epoch 12/300\n",
      "epoch:  11\n",
      "Learning rate:  0.1\n",
      "782/782 [==============================] - 49s 62ms/step - loss: 0.3927 - acc: 0.8638 - val_loss: 0.4918 - val_acc: 0.8405\n",
      "Epoch 13/300\n",
      "epoch:  12\n",
      "Learning rate:  0.1\n",
      "782/782 [==============================] - 50s 64ms/step - loss: 0.3744 - acc: 0.8694 - val_loss: 0.4368 - val_acc: 0.8565\n",
      "Epoch 14/300\n",
      "epoch:  13\n",
      "Learning rate:  0.1\n",
      "782/782 [==============================] - 50s 64ms/step - loss: 0.3598 - acc: 0.8756 - val_loss: 0.3988 - val_acc: 0.8618\n",
      "Epoch 15/300\n",
      "epoch:  14\n",
      "Learning rate:  0.1\n",
      "782/782 [==============================] - 49s 62ms/step - loss: 0.3467 - acc: 0.8793 - val_loss: 0.4497 - val_acc: 0.8529\n",
      "Epoch 16/300\n",
      "epoch:  15\n",
      "Learning rate:  0.1\n",
      "782/782 [==============================] - 49s 63ms/step - loss: 0.3277 - acc: 0.8838 - val_loss: 0.4046 - val_acc: 0.8674\n",
      "Epoch 17/300\n",
      "epoch:  16\n",
      "Learning rate:  0.1\n",
      "782/782 [==============================] - 51s 65ms/step - loss: 0.3132 - acc: 0.8888 - val_loss: 0.5060 - val_acc: 0.8419\n",
      "Epoch 18/300\n",
      "epoch:  17\n",
      "Learning rate:  0.1\n",
      "782/782 [==============================] - 51s 65ms/step - loss: 0.3026 - acc: 0.8940 - val_loss: 0.4118 - val_acc: 0.8634\n",
      "Epoch 19/300\n",
      "epoch:  18\n",
      "Learning rate:  0.1\n",
      "782/782 [==============================] - 50s 64ms/step - loss: 0.2917 - acc: 0.8981 - val_loss: 0.4435 - val_acc: 0.8621\n",
      "Epoch 20/300\n",
      "epoch:  19\n",
      "Learning rate:  0.1\n",
      "782/782 [==============================] - 50s 64ms/step - loss: 0.2819 - acc: 0.9010 - val_loss: 0.5079 - val_acc: 0.8468\n",
      "Epoch 21/300\n",
      "epoch:  20\n",
      "Learning rate:  0.1\n",
      "782/782 [==============================] - 49s 63ms/step - loss: 0.2712 - acc: 0.9046 - val_loss: 0.4761 - val_acc: 0.8541\n",
      "Epoch 22/300\n",
      "epoch:  21\n",
      "Learning rate:  0.1\n",
      "782/782 [==============================] - 50s 64ms/step - loss: 0.2666 - acc: 0.9063 - val_loss: 0.4418 - val_acc: 0.8659\n",
      "Epoch 23/300\n",
      "epoch:  22\n",
      "Learning rate:  0.1\n",
      "782/782 [==============================] - 50s 64ms/step - loss: 0.2561 - acc: 0.9083 - val_loss: 0.4311 - val_acc: 0.8645\n",
      "Epoch 24/300\n",
      "epoch:  23\n",
      "Learning rate:  0.1\n",
      "782/782 [==============================] - 51s 65ms/step - loss: 0.2434 - acc: 0.9145 - val_loss: 0.4396 - val_acc: 0.8660\n",
      "Epoch 25/300\n",
      "epoch:  24\n",
      "Learning rate:  0.1\n",
      "782/782 [==============================] - 51s 65ms/step - loss: 0.2367 - acc: 0.9162 - val_loss: 0.4891 - val_acc: 0.8504\n",
      "Epoch 26/300\n",
      "epoch:  25\n",
      "Learning rate:  0.1\n",
      "782/782 [==============================] - 50s 64ms/step - loss: 0.2271 - acc: 0.9200 - val_loss: 0.4572 - val_acc: 0.8612\n",
      "Epoch 27/300\n",
      "epoch:  26\n",
      "Learning rate:  0.1\n",
      "782/782 [==============================] - 50s 64ms/step - loss: 0.2266 - acc: 0.9199 - val_loss: 0.4865 - val_acc: 0.8555\n",
      "Epoch 28/300\n",
      "epoch:  27\n",
      "Learning rate:  0.1\n",
      "782/782 [==============================] - 51s 65ms/step - loss: 0.2137 - acc: 0.9243 - val_loss: 0.4248 - val_acc: 0.8687\n",
      "Epoch 29/300\n",
      "epoch:  28\n",
      "Learning rate:  0.1\n",
      "782/782 [==============================] - 51s 66ms/step - loss: 0.2126 - acc: 0.9248 - val_loss: 0.4243 - val_acc: 0.8720\n",
      "Epoch 30/300\n",
      "epoch:  29\n",
      "Learning rate:  0.1\n",
      "782/782 [==============================] - 49s 63ms/step - loss: 0.2058 - acc: 0.9279 - val_loss: 0.4445 - val_acc: 0.8658\n",
      "Epoch 31/300\n",
      "epoch:  30\n",
      "Learning rate:  0.1\n",
      "782/782 [==============================] - 47s 61ms/step - loss: 0.1988 - acc: 0.9293 - val_loss: 0.4172 - val_acc: 0.8721\n",
      "Epoch 32/300\n",
      "epoch:  31\n",
      "Learning rate:  0.1\n",
      "782/782 [==============================] - 48s 61ms/step - loss: 0.1919 - acc: 0.9318 - val_loss: 0.4881 - val_acc: 0.8639\n",
      "Epoch 33/300\n",
      "epoch:  32\n",
      "Learning rate:  0.1\n",
      "782/782 [==============================] - 49s 62ms/step - loss: 0.1961 - acc: 0.9314 - val_loss: 0.4363 - val_acc: 0.8671\n",
      "Epoch 34/300\n",
      "epoch:  33\n",
      "Learning rate:  0.1\n",
      "782/782 [==============================] - 49s 63ms/step - loss: 0.1835 - acc: 0.9349 - val_loss: 0.4617 - val_acc: 0.8737\n",
      "Epoch 35/300\n",
      "epoch:  34\n",
      "Learning rate:  0.1\n",
      "782/782 [==============================] - 47s 60ms/step - loss: 0.1805 - acc: 0.9364 - val_loss: 0.4672 - val_acc: 0.8641\n",
      "Epoch 36/300\n",
      "epoch:  35\n",
      "Learning rate:  0.1\n",
      "782/782 [==============================] - 49s 62ms/step - loss: 0.1710 - acc: 0.9383 - val_loss: 0.4216 - val_acc: 0.8780\n",
      "Epoch 37/300\n",
      "epoch:  36\n",
      "Learning rate:  0.1\n",
      "782/782 [==============================] - 48s 61ms/step - loss: 0.1745 - acc: 0.9370 - val_loss: 0.4717 - val_acc: 0.8675\n",
      "Epoch 38/300\n",
      "epoch:  37\n",
      "Learning rate:  0.1\n",
      "782/782 [==============================] - 47s 60ms/step - loss: 0.1659 - acc: 0.9416 - val_loss: 0.4658 - val_acc: 0.8720\n",
      "Epoch 39/300\n",
      "epoch:  38\n",
      "Learning rate:  0.1\n",
      "782/782 [==============================] - 48s 62ms/step - loss: 0.1600 - acc: 0.9432 - val_loss: 0.4887 - val_acc: 0.8647\n",
      "Epoch 40/300\n",
      "epoch:  39\n",
      "Learning rate:  0.1\n",
      "782/782 [==============================] - 47s 60ms/step - loss: 0.1602 - acc: 0.9446 - val_loss: 0.4359 - val_acc: 0.8776\n",
      "Epoch 41/300\n",
      "epoch:  40\n",
      "Learning rate:  0.1\n",
      "782/782 [==============================] - 47s 61ms/step - loss: 0.1566 - acc: 0.9451 - val_loss: 0.5038 - val_acc: 0.8640\n",
      "Epoch 42/300\n",
      "epoch:  41\n",
      "Learning rate:  0.1\n",
      "782/782 [==============================] - 49s 63ms/step - loss: 0.1538 - acc: 0.9454 - val_loss: 0.4279 - val_acc: 0.8745\n",
      "Epoch 43/300\n",
      "epoch:  42\n",
      "Learning rate:  0.1\n",
      "782/782 [==============================] - 48s 61ms/step - loss: 0.1465 - acc: 0.9486 - val_loss: 0.4512 - val_acc: 0.8730\n",
      "Epoch 44/300\n",
      "epoch:  43\n",
      "Learning rate:  0.1\n",
      "782/782 [==============================] - 48s 62ms/step - loss: 0.1432 - acc: 0.9499 - val_loss: 0.4192 - val_acc: 0.8821\n",
      "Epoch 45/300\n",
      "epoch:  44\n",
      "Learning rate:  0.1\n",
      "782/782 [==============================] - 48s 62ms/step - loss: 0.1404 - acc: 0.9511 - val_loss: 0.4728 - val_acc: 0.8754\n",
      "Epoch 46/300\n",
      "epoch:  45\n",
      "Learning rate:  0.1\n",
      "782/782 [==============================] - 50s 64ms/step - loss: 0.1371 - acc: 0.9512 - val_loss: 0.4499 - val_acc: 0.8804\n",
      "Epoch 47/300\n",
      "epoch:  46\n",
      "Learning rate:  0.1\n",
      "782/782 [==============================] - 48s 61ms/step - loss: 0.1350 - acc: 0.9522 - val_loss: 0.4383 - val_acc: 0.8814\n",
      "Epoch 48/300\n",
      "epoch:  47\n",
      "Learning rate:  0.1\n",
      "782/782 [==============================] - 47s 60ms/step - loss: 0.1367 - acc: 0.9524 - val_loss: 0.4384 - val_acc: 0.8774\n",
      "Epoch 49/300\n",
      "epoch:  48\n",
      "Learning rate:  0.1\n",
      "782/782 [==============================] - 48s 61ms/step - loss: 0.1326 - acc: 0.9532 - val_loss: 0.4476 - val_acc: 0.8798\n"
     ]
    },
    {
     "name": "stdout",
     "output_type": "stream",
     "text": [
      "Epoch 50/300\n",
      "epoch:  49\n",
      "Learning rate:  0.1\n",
      "782/782 [==============================] - 49s 62ms/step - loss: 0.1326 - acc: 0.9544 - val_loss: 0.4195 - val_acc: 0.8864\n",
      "Epoch 51/300\n",
      "epoch:  50\n",
      "Learning rate:  0.1\n",
      "782/782 [==============================] - 51s 65ms/step - loss: 0.1281 - acc: 0.9545 - val_loss: 0.4324 - val_acc: 0.8814\n",
      "Epoch 52/300\n",
      "epoch:  51\n",
      "Learning rate:  0.1\n",
      "782/782 [==============================] - 49s 63ms/step - loss: 0.1245 - acc: 0.9566 - val_loss: 0.4457 - val_acc: 0.8820\n",
      "Epoch 53/300\n",
      "epoch:  52\n",
      "Learning rate:  0.1\n",
      "782/782 [==============================] - 48s 62ms/step - loss: 0.1215 - acc: 0.9574 - val_loss: 0.4275 - val_acc: 0.8865\n",
      "Epoch 54/300\n",
      "epoch:  53\n",
      "Learning rate:  0.1\n",
      "782/782 [==============================] - 49s 63ms/step - loss: 0.1179 - acc: 0.9593 - val_loss: 0.4613 - val_acc: 0.8805\n",
      "Epoch 55/300\n",
      "epoch:  54\n",
      "Learning rate:  0.1\n",
      "782/782 [==============================] - 48s 62ms/step - loss: 0.1169 - acc: 0.9599 - val_loss: 0.4292 - val_acc: 0.8867\n",
      "Epoch 56/300\n",
      "epoch:  55\n",
      "Learning rate:  0.1\n",
      "782/782 [==============================] - 49s 62ms/step - loss: 0.1192 - acc: 0.9580 - val_loss: 0.4352 - val_acc: 0.8848\n",
      "Epoch 57/300\n",
      "epoch:  56\n",
      "Learning rate:  0.1\n",
      "782/782 [==============================] - 49s 63ms/step - loss: 0.1147 - acc: 0.9603 - val_loss: 0.4406 - val_acc: 0.8826\n",
      "Epoch 58/300\n",
      "epoch:  57\n",
      "Learning rate:  0.1\n",
      "782/782 [==============================] - 50s 64ms/step - loss: 0.1127 - acc: 0.9608 - val_loss: 0.4277 - val_acc: 0.8874\n",
      "Epoch 59/300\n",
      "epoch:  58\n",
      "Learning rate:  0.1\n",
      "782/782 [==============================] - 50s 64ms/step - loss: 0.1116 - acc: 0.9607 - val_loss: 0.5243 - val_acc: 0.8700\n",
      "Epoch 60/300\n",
      "epoch:  59\n",
      "Learning rate:  0.1\n",
      "782/782 [==============================] - 48s 61ms/step - loss: 0.1106 - acc: 0.9627 - val_loss: 0.4549 - val_acc: 0.8829\n",
      "Epoch 61/300\n",
      "epoch:  60\n",
      "Learning rate:  0.1\n",
      "782/782 [==============================] - 49s 63ms/step - loss: 0.1032 - acc: 0.9641 - val_loss: 0.4275 - val_acc: 0.8900\n",
      "Epoch 62/300\n",
      "epoch:  61\n",
      "Learning rate:  0.1\n",
      "782/782 [==============================] - 51s 65ms/step - loss: 0.1057 - acc: 0.9630 - val_loss: 0.4579 - val_acc: 0.8835\n",
      "Epoch 63/300\n",
      "epoch:  62\n",
      "Learning rate:  0.1\n",
      "782/782 [==============================] - 50s 64ms/step - loss: 0.1057 - acc: 0.9635 - val_loss: 0.4821 - val_acc: 0.8792\n",
      "Epoch 64/300\n",
      "epoch:  63\n",
      "Learning rate:  0.1\n",
      "782/782 [==============================] - 48s 62ms/step - loss: 0.1060 - acc: 0.9636 - val_loss: 0.4498 - val_acc: 0.8856\n",
      "Epoch 65/300\n",
      "epoch:  64\n",
      "Learning rate:  0.1\n",
      "782/782 [==============================] - 50s 64ms/step - loss: 0.1006 - acc: 0.9657 - val_loss: 0.4555 - val_acc: 0.8846\n",
      "Epoch 66/300\n",
      "epoch:  65\n",
      "Learning rate:  0.1\n",
      "782/782 [==============================] - 50s 63ms/step - loss: 0.1029 - acc: 0.9649 - val_loss: 0.4762 - val_acc: 0.8790\n",
      "Epoch 67/300\n",
      "epoch:  66\n",
      "Learning rate:  0.1\n",
      "782/782 [==============================] - 51s 65ms/step - loss: 0.0975 - acc: 0.9664 - val_loss: 0.4549 - val_acc: 0.8857\n",
      "Epoch 68/300\n",
      "epoch:  67\n",
      "Learning rate:  0.1\n",
      "782/782 [==============================] - 49s 62ms/step - loss: 0.0995 - acc: 0.9650 - val_loss: 0.4462 - val_acc: 0.8859\n",
      "Epoch 69/300\n",
      "epoch:  68\n",
      "Learning rate:  0.1\n",
      "782/782 [==============================] - 50s 64ms/step - loss: 0.0970 - acc: 0.9672 - val_loss: 0.4645 - val_acc: 0.8850\n",
      "Epoch 70/300\n",
      "epoch:  69\n",
      "Learning rate:  0.1\n",
      "782/782 [==============================] - 48s 62ms/step - loss: 0.0985 - acc: 0.9654 - val_loss: 0.4298 - val_acc: 0.8880\n",
      "Epoch 71/300\n",
      "epoch:  70\n",
      "Learning rate:  0.1\n",
      "782/782 [==============================] - 51s 66ms/step - loss: 0.0935 - acc: 0.9671 - val_loss: 0.4415 - val_acc: 0.8889\n",
      "Epoch 72/300\n",
      "epoch:  71\n",
      "Learning rate:  0.1\n",
      "782/782 [==============================] - 49s 62ms/step - loss: 0.0935 - acc: 0.9682 - val_loss: 0.4487 - val_acc: 0.8901\n",
      "Epoch 73/300\n",
      "epoch:  72\n",
      "Learning rate:  0.1\n",
      "782/782 [==============================] - 50s 64ms/step - loss: 0.0936 - acc: 0.9676 - val_loss: 0.4850 - val_acc: 0.8805\n",
      "Epoch 74/300\n",
      "epoch:  73\n",
      "Learning rate:  0.1\n",
      "695/782 [=========================>....] - ETA: 5s - loss: 0.0940 - acc: 0.9684"
     ]
    },
    {
     "name": "stderr",
     "output_type": "stream",
     "text": [
      "IOPub message rate exceeded.\n",
      "The notebook server will temporarily stop sending output\n",
      "to the client in order to avoid crashing it.\n",
      "To change this limit, set the config variable\n",
      "`--NotebookApp.iopub_msg_rate_limit`.\n",
      "\n",
      "Current values:\n",
      "NotebookApp.iopub_msg_rate_limit=1000.0 (msgs/sec)\n",
      "NotebookApp.rate_limit_window=3.0 (secs)\n",
      "\n"
     ]
    },
    {
     "name": "stdout",
     "output_type": "stream",
     "text": [
      "782/782 [==============================] - 49s 63ms/step - loss: 0.0811 - acc: 0.9726 - val_loss: 0.4554 - val_acc: 0.8882\n",
      "Epoch 86/300\n",
      "epoch:  85\n",
      "Learning rate:  0.1\n",
      "782/782 [==============================] - 50s 64ms/step - loss: 0.0829 - acc: 0.9710 - val_loss: 0.4467 - val_acc: 0.8871\n",
      "Epoch 87/300\n",
      "epoch:  86\n",
      "Learning rate:  0.1\n",
      "782/782 [==============================] - 50s 64ms/step - loss: 0.0807 - acc: 0.9724 - val_loss: 0.4412 - val_acc: 0.8927\n",
      "Epoch 88/300\n",
      "epoch:  87\n",
      "Learning rate:  0.1\n",
      "744/782 [===========================>..] - ETA: 2s - loss: 0.0795 - acc: 0.9727"
     ]
    },
    {
     "name": "stderr",
     "output_type": "stream",
     "text": [
      "IOPub message rate exceeded.\n",
      "The notebook server will temporarily stop sending output\n",
      "to the client in order to avoid crashing it.\n",
      "To change this limit, set the config variable\n",
      "`--NotebookApp.iopub_msg_rate_limit`.\n",
      "\n",
      "Current values:\n",
      "NotebookApp.iopub_msg_rate_limit=1000.0 (msgs/sec)\n",
      "NotebookApp.rate_limit_window=3.0 (secs)\n",
      "\n"
     ]
    },
    {
     "name": "stdout",
     "output_type": "stream",
     "text": [
      "782/782 [==============================] - 50s 64ms/step - loss: 0.0772 - acc: 0.9739 - val_loss: 0.4661 - val_acc: 0.8885\n",
      "Epoch 100/300\n",
      "epoch:  99\n",
      "Learning rate:  0.1\n",
      "782/782 [==============================] - 48s 61ms/step - loss: 0.0758 - acc: 0.9745 - val_loss: 0.4391 - val_acc: 0.8912\n",
      "Epoch 101/300\n",
      "epoch:  100\n",
      "Learning rate:  0.1\n",
      "782/782 [==============================] - 48s 61ms/step - loss: 0.0689 - acc: 0.9761 - val_loss: 0.4548 - val_acc: 0.8897\n",
      "Epoch 102/300\n",
      "epoch:  101\n",
      "Learning rate:  0.1\n",
      "782/782 [==============================] - 49s 62ms/step - loss: 0.0725 - acc: 0.9752 - val_loss: 0.4951 - val_acc: 0.8862\n",
      "Epoch 103/300\n",
      "epoch:  102\n",
      "Learning rate:  0.1\n",
      "  1/782 [..............................] - ETA: 1:02 - loss: 0.0938 - acc: 0.9531"
     ]
    },
    {
     "name": "stderr",
     "output_type": "stream",
     "text": [
      "IOPub message rate exceeded.\n",
      "The notebook server will temporarily stop sending output\n",
      "to the client in order to avoid crashing it.\n",
      "To change this limit, set the config variable\n",
      "`--NotebookApp.iopub_msg_rate_limit`.\n",
      "\n",
      "Current values:\n",
      "NotebookApp.iopub_msg_rate_limit=1000.0 (msgs/sec)\n",
      "NotebookApp.rate_limit_window=3.0 (secs)\n",
      "\n"
     ]
    },
    {
     "name": "stdout",
     "output_type": "stream",
     "text": [
      "782/782 [==============================] - 48s 61ms/step - loss: 0.0710 - acc: 0.9759 - val_loss: 0.4763 - val_acc: 0.8889\n",
      "Epoch 113/300\n",
      "epoch:  112\n",
      "Learning rate:  0.1\n",
      "782/782 [==============================] - 47s 60ms/step - loss: 0.0695 - acc: 0.9761 - val_loss: 0.4640 - val_acc: 0.8926\n",
      "Epoch 114/300\n",
      "epoch:  113\n",
      "Learning rate:  0.1\n",
      "782/782 [==============================] - 48s 61ms/step - loss: 0.0651 - acc: 0.9776 - val_loss: 0.4535 - val_acc: 0.8928\n",
      "Epoch 115/300\n",
      "epoch:  114\n",
      "Learning rate:  0.1\n",
      "782/782 [==============================] - 48s 62ms/step - loss: 0.0650 - acc: 0.9782 - val_loss: 0.4619 - val_acc: 0.8919\n",
      "Epoch 116/300\n",
      "epoch:  115\n",
      "Learning rate:  0.1\n",
      "323/782 [===========>..................] - ETA: 26s - loss: 0.0684 - acc: 0.9773"
     ]
    },
    {
     "name": "stderr",
     "output_type": "stream",
     "text": [
      "IOPub message rate exceeded.\n",
      "The notebook server will temporarily stop sending output\n",
      "to the client in order to avoid crashing it.\n",
      "To change this limit, set the config variable\n",
      "`--NotebookApp.iopub_msg_rate_limit`.\n",
      "\n",
      "Current values:\n",
      "NotebookApp.iopub_msg_rate_limit=1000.0 (msgs/sec)\n",
      "NotebookApp.rate_limit_window=3.0 (secs)\n",
      "\n"
     ]
    },
    {
     "name": "stdout",
     "output_type": "stream",
     "text": [
      "782/782 [==============================] - 49s 62ms/step - loss: 0.0589 - acc: 0.9799 - val_loss: 0.4711 - val_acc: 0.8886\n",
      "Epoch 127/300\n",
      "epoch:  126\n",
      "Learning rate:  0.1\n",
      "782/782 [==============================] - 48s 62ms/step - loss: 0.0656 - acc: 0.9776 - val_loss: 0.4611 - val_acc: 0.8927\n",
      "Epoch 128/300\n",
      "epoch:  127\n",
      "Learning rate:  0.1\n",
      "782/782 [==============================] - 48s 61ms/step - loss: 0.0636 - acc: 0.9784 - val_loss: 0.4602 - val_acc: 0.8941\n",
      "Epoch 129/300\n",
      "epoch:  128\n",
      "Learning rate:  0.1\n",
      "782/782 [==============================] - 49s 62ms/step - loss: 0.0646 - acc: 0.9776 - val_loss: 0.4566 - val_acc: 0.8929\n",
      "Epoch 130/300\n",
      "epoch:  129\n",
      "Learning rate:  0.1\n",
      "560/782 [====================>.........] - ETA: 13s - loss: 0.0624 - acc: 0.9780"
     ]
    },
    {
     "name": "stderr",
     "output_type": "stream",
     "text": [
      "IOPub message rate exceeded.\n",
      "The notebook server will temporarily stop sending output\n",
      "to the client in order to avoid crashing it.\n",
      "To change this limit, set the config variable\n",
      "`--NotebookApp.iopub_msg_rate_limit`.\n",
      "\n",
      "Current values:\n",
      "NotebookApp.iopub_msg_rate_limit=1000.0 (msgs/sec)\n",
      "NotebookApp.rate_limit_window=3.0 (secs)\n",
      "\n"
     ]
    },
    {
     "name": "stdout",
     "output_type": "stream",
     "text": [
      "782/782 [==============================] - 50s 64ms/step - loss: 0.0580 - acc: 0.9803 - val_loss: 0.4550 - val_acc: 0.8938\n",
      "Epoch 141/300\n",
      "epoch:  140\n",
      "Learning rate:  0.1\n",
      "782/782 [==============================] - 48s 61ms/step - loss: 0.0583 - acc: 0.9801 - val_loss: 0.4646 - val_acc: 0.8932\n",
      "Epoch 142/300\n",
      "epoch:  141\n",
      "Learning rate:  0.1\n",
      "782/782 [==============================] - 49s 63ms/step - loss: 0.0561 - acc: 0.9810 - val_loss: 0.4605 - val_acc: 0.8946\n",
      "Epoch 143/300\n",
      "epoch:  142\n",
      "Learning rate:  0.1\n",
      "782/782 [==============================] - 48s 61ms/step - loss: 0.0601 - acc: 0.9803 - val_loss: 0.4595 - val_acc: 0.8942\n",
      "Epoch 144/300\n",
      "epoch:  143\n",
      "Learning rate:  0.1\n",
      "596/782 [=====================>........] - ETA: 11s - loss: 0.0586 - acc: 0.9804"
     ]
    },
    {
     "name": "stderr",
     "output_type": "stream",
     "text": [
      "IOPub message rate exceeded.\n",
      "The notebook server will temporarily stop sending output\n",
      "to the client in order to avoid crashing it.\n",
      "To change this limit, set the config variable\n",
      "`--NotebookApp.iopub_msg_rate_limit`.\n",
      "\n",
      "Current values:\n",
      "NotebookApp.iopub_msg_rate_limit=1000.0 (msgs/sec)\n",
      "NotebookApp.rate_limit_window=3.0 (secs)\n",
      "\n"
     ]
    },
    {
     "name": "stdout",
     "output_type": "stream",
     "text": [
      "782/782 [==============================] - 49s 62ms/step - loss: 0.0538 - acc: 0.9816 - val_loss: 0.4512 - val_acc: 0.8946\n",
      "Epoch 155/300\n",
      "epoch:  154\n",
      "Learning rate:  0.001\n",
      "782/782 [==============================] - 47s 60ms/step - loss: 0.0550 - acc: 0.9816 - val_loss: 0.4508 - val_acc: 0.8962\n",
      "Epoch 156/300\n",
      "epoch:  155\n",
      "Learning rate:  0.001\n",
      "782/782 [==============================] - 48s 61ms/step - loss: 0.0519 - acc: 0.9820 - val_loss: 0.4487 - val_acc: 0.8961\n",
      "Epoch 157/300\n",
      "epoch:  156\n",
      "Learning rate:  0.001\n",
      "782/782 [==============================] - 48s 61ms/step - loss: 0.0515 - acc: 0.9826 - val_loss: 0.4492 - val_acc: 0.8954\n",
      "Epoch 158/300\n",
      "epoch:  157\n",
      "Learning rate:  0.001\n",
      " 40/782 [>.............................] - ETA: 43s - loss: 0.0465 - acc: 0.9832"
     ]
    },
    {
     "name": "stderr",
     "output_type": "stream",
     "text": [
      "IOPub message rate exceeded.\n",
      "The notebook server will temporarily stop sending output\n",
      "to the client in order to avoid crashing it.\n",
      "To change this limit, set the config variable\n",
      "`--NotebookApp.iopub_msg_rate_limit`.\n",
      "\n",
      "Current values:\n",
      "NotebookApp.iopub_msg_rate_limit=1000.0 (msgs/sec)\n",
      "NotebookApp.rate_limit_window=3.0 (secs)\n",
      "\n"
     ]
    },
    {
     "name": "stdout",
     "output_type": "stream",
     "text": [
      "782/782 [==============================] - 48s 62ms/step - loss: 0.0518 - acc: 0.9824 - val_loss: 0.4446 - val_acc: 0.8965\n",
      "Epoch 169/300\n",
      "epoch:  168\n",
      "Learning rate:  0.001\n",
      "782/782 [==============================] - 51s 65ms/step - loss: 0.0519 - acc: 0.9819 - val_loss: 0.4463 - val_acc: 0.8974\n",
      "Epoch 170/300\n",
      "epoch:  169\n",
      "Learning rate:  0.001\n",
      "782/782 [==============================] - 48s 61ms/step - loss: 0.0508 - acc: 0.9824 - val_loss: 0.4449 - val_acc: 0.8969\n",
      "Epoch 171/300\n",
      "epoch:  170\n",
      "Learning rate:  0.001\n",
      "782/782 [==============================] - 48s 62ms/step - loss: 0.0500 - acc: 0.9830 - val_loss: 0.4444 - val_acc: 0.8968\n",
      "Epoch 172/300\n",
      "epoch:  171\n",
      "Learning rate:  0.001\n",
      "117/782 [===>..........................] - ETA: 38s - loss: 0.0473 - acc: 0.9862"
     ]
    },
    {
     "name": "stderr",
     "output_type": "stream",
     "text": [
      "IOPub message rate exceeded.\n",
      "The notebook server will temporarily stop sending output\n",
      "to the client in order to avoid crashing it.\n",
      "To change this limit, set the config variable\n",
      "`--NotebookApp.iopub_msg_rate_limit`.\n",
      "\n",
      "Current values:\n",
      "NotebookApp.iopub_msg_rate_limit=1000.0 (msgs/sec)\n",
      "NotebookApp.rate_limit_window=3.0 (secs)\n",
      "\n"
     ]
    },
    {
     "name": "stdout",
     "output_type": "stream",
     "text": [
      "782/782 [==============================] - 48s 61ms/step - loss: 0.0492 - acc: 0.9830 - val_loss: 0.4434 - val_acc: 0.8973\n",
      "Epoch 183/300\n",
      "epoch:  182\n",
      "Learning rate:  0.001\n",
      "782/782 [==============================] - 47s 60ms/step - loss: 0.0502 - acc: 0.9824 - val_loss: 0.4438 - val_acc: 0.8977\n",
      "Epoch 184/300\n",
      "epoch:  183\n",
      "Learning rate:  0.001\n",
      "782/782 [==============================] - 49s 62ms/step - loss: 0.0492 - acc: 0.9834 - val_loss: 0.4439 - val_acc: 0.8980\n",
      "Epoch 185/300\n",
      "epoch:  184\n",
      "Learning rate:  0.001\n",
      "782/782 [==============================] - 48s 61ms/step - loss: 0.0461 - acc: 0.9842 - val_loss: 0.4428 - val_acc: 0.8973\n",
      "Epoch 186/300\n",
      "epoch:  185\n",
      "Learning rate:  0.001\n",
      " 56/782 [=>............................] - ETA: 41s - loss: 0.0449 - acc: 0.9824"
     ]
    },
    {
     "name": "stderr",
     "output_type": "stream",
     "text": [
      "IOPub message rate exceeded.\n",
      "The notebook server will temporarily stop sending output\n",
      "to the client in order to avoid crashing it.\n",
      "To change this limit, set the config variable\n",
      "`--NotebookApp.iopub_msg_rate_limit`.\n",
      "\n",
      "Current values:\n",
      "NotebookApp.iopub_msg_rate_limit=1000.0 (msgs/sec)\n",
      "NotebookApp.rate_limit_window=3.0 (secs)\n",
      "\n"
     ]
    },
    {
     "name": "stdout",
     "output_type": "stream",
     "text": [
      "782/782 [==============================] - 48s 61ms/step - loss: 0.0477 - acc: 0.9832 - val_loss: 0.4433 - val_acc: 0.8973\n",
      "Epoch 196/300\n",
      "epoch:  195\n",
      "Learning rate:  0.001\n",
      "782/782 [==============================] - 48s 61ms/step - loss: 0.0477 - acc: 0.9834 - val_loss: 0.4422 - val_acc: 0.8971\n",
      "Epoch 197/300\n",
      "epoch:  196\n",
      "Learning rate:  0.001\n",
      "782/782 [==============================] - 48s 61ms/step - loss: 0.0488 - acc: 0.9834 - val_loss: 0.4423 - val_acc: 0.8970\n",
      "Epoch 198/300\n",
      "epoch:  197\n",
      "Learning rate:  0.001\n",
      "782/782 [==============================] - 48s 62ms/step - loss: 0.0502 - acc: 0.9838 - val_loss: 0.4421 - val_acc: 0.8969\n",
      "Epoch 199/300\n",
      "epoch:  198\n",
      "Learning rate:  0.001\n",
      "592/782 [=====================>........] - ETA: 11s - loss: 0.0493 - acc: 0.9828"
     ]
    },
    {
     "name": "stderr",
     "output_type": "stream",
     "text": [
      "IOPub message rate exceeded.\n",
      "The notebook server will temporarily stop sending output\n",
      "to the client in order to avoid crashing it.\n",
      "To change this limit, set the config variable\n",
      "`--NotebookApp.iopub_msg_rate_limit`.\n",
      "\n",
      "Current values:\n",
      "NotebookApp.iopub_msg_rate_limit=1000.0 (msgs/sec)\n",
      "NotebookApp.rate_limit_window=3.0 (secs)\n",
      "\n"
     ]
    },
    {
     "name": "stdout",
     "output_type": "stream",
     "text": [
      "782/782 [==============================] - 50s 64ms/step - loss: 0.0494 - acc: 0.9833 - val_loss: 0.4422 - val_acc: 0.8970\n",
      "Epoch 210/300\n",
      "epoch:  209\n",
      "Learning rate:  0.001\n",
      "782/782 [==============================] - 49s 63ms/step - loss: 0.0487 - acc: 0.9834 - val_loss: 0.4411 - val_acc: 0.8962\n",
      "Epoch 211/300\n",
      "epoch:  210\n",
      "Learning rate:  0.001\n",
      "782/782 [==============================] - 47s 60ms/step - loss: 0.0495 - acc: 0.9833 - val_loss: 0.4418 - val_acc: 0.8970\n",
      "Epoch 212/300\n",
      "epoch:  211\n",
      "Learning rate:  0.001\n",
      "782/782 [==============================] - 48s 62ms/step - loss: 0.0492 - acc: 0.9831 - val_loss: 0.4413 - val_acc: 0.8974\n",
      "Epoch 213/300\n",
      "epoch:  212\n",
      "Learning rate:  0.001\n",
      "555/782 [====================>.........] - ETA: 14s - loss: 0.0504 - acc: 0.9827"
     ]
    },
    {
     "name": "stderr",
     "output_type": "stream",
     "text": [
      "IOPub message rate exceeded.\n",
      "The notebook server will temporarily stop sending output\n",
      "to the client in order to avoid crashing it.\n",
      "To change this limit, set the config variable\n",
      "`--NotebookApp.iopub_msg_rate_limit`.\n",
      "\n",
      "Current values:\n",
      "NotebookApp.iopub_msg_rate_limit=1000.0 (msgs/sec)\n",
      "NotebookApp.rate_limit_window=3.0 (secs)\n",
      "\n"
     ]
    },
    {
     "name": "stdout",
     "output_type": "stream",
     "text": [
      "782/782 [==============================] - 49s 62ms/step - loss: 0.0479 - acc: 0.9842 - val_loss: 0.4407 - val_acc: 0.8973\n",
      "Epoch 224/300\n",
      "epoch:  223\n",
      "Learning rate:  0.001\n",
      "782/782 [==============================] - 48s 62ms/step - loss: 0.0465 - acc: 0.9842 - val_loss: 0.4414 - val_acc: 0.8972\n",
      "Epoch 225/300\n",
      "epoch:  224\n",
      "Learning rate:  0.001\n",
      "782/782 [==============================] - 48s 62ms/step - loss: 0.0462 - acc: 0.9845 - val_loss: 0.4411 - val_acc: 0.8969\n",
      "Epoch 226/300\n",
      "epoch:  225\n",
      "Learning rate:  0.001\n",
      "782/782 [==============================] - 48s 61ms/step - loss: 0.0472 - acc: 0.9836 - val_loss: 0.4400 - val_acc: 0.8973\n",
      "Epoch 227/300\n",
      "epoch:  226\n",
      "Learning rate:  0.0001\n",
      "494/782 [=================>............] - ETA: 17s - loss: 0.0466 - acc: 0.9839"
     ]
    },
    {
     "name": "stderr",
     "output_type": "stream",
     "text": [
      "IOPub message rate exceeded.\n",
      "The notebook server will temporarily stop sending output\n",
      "to the client in order to avoid crashing it.\n",
      "To change this limit, set the config variable\n",
      "`--NotebookApp.iopub_msg_rate_limit`.\n",
      "\n",
      "Current values:\n",
      "NotebookApp.iopub_msg_rate_limit=1000.0 (msgs/sec)\n",
      "NotebookApp.rate_limit_window=3.0 (secs)\n",
      "\n"
     ]
    },
    {
     "name": "stdout",
     "output_type": "stream",
     "text": [
      "782/782 [==============================] - 49s 62ms/step - loss: 0.0456 - acc: 0.9854 - val_loss: 0.4399 - val_acc: 0.8969\n",
      "Epoch 238/300\n",
      "epoch:  237\n",
      "Learning rate:  0.0001\n",
      "782/782 [==============================] - 51s 65ms/step - loss: 0.0460 - acc: 0.9849 - val_loss: 0.4399 - val_acc: 0.8965\n",
      "Epoch 239/300\n",
      "epoch:  238\n",
      "Learning rate:  0.0001\n",
      "782/782 [==============================] - 50s 64ms/step - loss: 0.0453 - acc: 0.9845 - val_loss: 0.4417 - val_acc: 0.8968\n",
      "Epoch 240/300\n",
      "epoch:  239\n",
      "Learning rate:  0.0001\n",
      "782/782 [==============================] - 49s 63ms/step - loss: 0.0456 - acc: 0.9846 - val_loss: 0.4411 - val_acc: 0.8969\n",
      "Epoch 241/300\n",
      "epoch:  240\n",
      "Learning rate:  0.0001\n",
      "257/782 [========>.....................] - ETA: 31s - loss: 0.0484 - acc: 0.9842"
     ]
    },
    {
     "name": "stderr",
     "output_type": "stream",
     "text": [
      "IOPub message rate exceeded.\n",
      "The notebook server will temporarily stop sending output\n",
      "to the client in order to avoid crashing it.\n",
      "To change this limit, set the config variable\n",
      "`--NotebookApp.iopub_msg_rate_limit`.\n",
      "\n",
      "Current values:\n",
      "NotebookApp.iopub_msg_rate_limit=1000.0 (msgs/sec)\n",
      "NotebookApp.rate_limit_window=3.0 (secs)\n",
      "\n"
     ]
    },
    {
     "name": "stdout",
     "output_type": "stream",
     "text": [
      "782/782 [==============================] - 49s 63ms/step - loss: 0.0469 - acc: 0.9842 - val_loss: 0.4418 - val_acc: 0.8972\n",
      "Epoch 251/300\n",
      "epoch:  250\n",
      "Learning rate:  0.0001\n",
      "782/782 [==============================] - 49s 63ms/step - loss: 0.0480 - acc: 0.9839 - val_loss: 0.4405 - val_acc: 0.8971\n",
      "Epoch 252/300\n",
      "epoch:  251\n",
      "Learning rate:  0.0001\n",
      "782/782 [==============================] - 50s 64ms/step - loss: 0.0477 - acc: 0.9841 - val_loss: 0.4409 - val_acc: 0.8974\n",
      "Epoch 253/300\n",
      "epoch:  252\n",
      "Learning rate:  0.0001\n",
      "782/782 [==============================] - 50s 64ms/step - loss: 0.0476 - acc: 0.9838 - val_loss: 0.4406 - val_acc: 0.8970\n",
      "Epoch 254/300\n",
      "epoch:  253\n",
      "Learning rate:  0.0001\n",
      "414/782 [==============>...............] - ETA: 22s - loss: 0.0463 - acc: 0.9840"
     ]
    },
    {
     "name": "stderr",
     "output_type": "stream",
     "text": [
      "IOPub message rate exceeded.\n",
      "The notebook server will temporarily stop sending output\n",
      "to the client in order to avoid crashing it.\n",
      "To change this limit, set the config variable\n",
      "`--NotebookApp.iopub_msg_rate_limit`.\n",
      "\n",
      "Current values:\n",
      "NotebookApp.iopub_msg_rate_limit=1000.0 (msgs/sec)\n",
      "NotebookApp.rate_limit_window=3.0 (secs)\n",
      "\n"
     ]
    },
    {
     "name": "stdout",
     "output_type": "stream",
     "text": [
      "782/782 [==============================] - 50s 64ms/step - loss: 0.0463 - acc: 0.9839 - val_loss: 0.4410 - val_acc: 0.8971\n",
      "Epoch 264/300\n",
      "epoch:  263\n",
      "Learning rate:  0.0001\n",
      "782/782 [==============================] - 49s 63ms/step - loss: 0.0481 - acc: 0.9836 - val_loss: 0.4420 - val_acc: 0.8969\n",
      "Epoch 265/300\n",
      "epoch:  264\n",
      "Learning rate:  0.0001\n",
      "782/782 [==============================] - 51s 65ms/step - loss: 0.0489 - acc: 0.9837 - val_loss: 0.4403 - val_acc: 0.8974\n",
      "Epoch 266/300\n",
      "epoch:  265\n",
      "Learning rate:  0.0001\n",
      "782/782 [==============================] - 50s 64ms/step - loss: 0.0475 - acc: 0.9837 - val_loss: 0.4413 - val_acc: 0.8968\n",
      "Epoch 267/300\n",
      "epoch:  266\n",
      "Learning rate:  0.0001\n",
      "660/782 [========================>.....] - ETA: 7s - loss: 0.0484 - acc: 0.9843"
     ]
    },
    {
     "name": "stderr",
     "output_type": "stream",
     "text": [
      "IOPub message rate exceeded.\n",
      "The notebook server will temporarily stop sending output\n",
      "to the client in order to avoid crashing it.\n",
      "To change this limit, set the config variable\n",
      "`--NotebookApp.iopub_msg_rate_limit`.\n",
      "\n",
      "Current values:\n",
      "NotebookApp.iopub_msg_rate_limit=1000.0 (msgs/sec)\n",
      "NotebookApp.rate_limit_window=3.0 (secs)\n",
      "\n"
     ]
    },
    {
     "name": "stdout",
     "output_type": "stream",
     "text": [
      "782/782 [==============================] - 50s 64ms/step - loss: 0.0460 - acc: 0.9850 - val_loss: 0.4414 - val_acc: 0.8969\n",
      "Epoch 278/300\n",
      "epoch:  277\n",
      "Learning rate:  0.0001\n",
      "782/782 [==============================] - 49s 62ms/step - loss: 0.0448 - acc: 0.9850 - val_loss: 0.4404 - val_acc: 0.8972\n",
      "Epoch 279/300\n",
      "epoch:  278\n",
      "Learning rate:  0.0001\n",
      "782/782 [==============================] - 48s 61ms/step - loss: 0.0499 - acc: 0.9835 - val_loss: 0.4422 - val_acc: 0.8973\n",
      "Epoch 280/300\n",
      "epoch:  279\n",
      "Learning rate:  0.0001\n",
      "782/782 [==============================] - 48s 61ms/step - loss: 0.0468 - acc: 0.9840 - val_loss: 0.4400 - val_acc: 0.8973\n",
      "Epoch 281/300\n",
      "epoch:  280\n",
      "Learning rate:  0.0001\n",
      "354/782 [============>.................] - ETA: 25s - loss: 0.0447 - acc: 0.9846"
     ]
    },
    {
     "name": "stderr",
     "output_type": "stream",
     "text": [
      "IOPub message rate exceeded.\n",
      "The notebook server will temporarily stop sending output\n",
      "to the client in order to avoid crashing it.\n",
      "To change this limit, set the config variable\n",
      "`--NotebookApp.iopub_msg_rate_limit`.\n",
      "\n",
      "Current values:\n",
      "NotebookApp.iopub_msg_rate_limit=1000.0 (msgs/sec)\n",
      "NotebookApp.rate_limit_window=3.0 (secs)\n",
      "\n"
     ]
    },
    {
     "name": "stdout",
     "output_type": "stream",
     "text": [
      "782/782 [==============================] - 47s 60ms/step - loss: 0.0478 - acc: 0.9839 - val_loss: 0.4411 - val_acc: 0.8981\n",
      "Epoch 290/300\n",
      "epoch:  289\n",
      "Learning rate:  0.0001\n",
      "782/782 [==============================] - 48s 62ms/step - loss: 0.0481 - acc: 0.9839 - val_loss: 0.4412 - val_acc: 0.8972\n",
      "Epoch 291/300\n",
      "epoch:  290\n",
      "Learning rate:  0.0001\n",
      "623/782 [======================>.......] - ETA: 9s - loss: 0.0473 - acc: 0.9840"
     ]
    },
    {
     "name": "stderr",
     "output_type": "stream",
     "text": [
      "IOPub message rate exceeded.\n",
      "The notebook server will temporarily stop sending output\n",
      "to the client in order to avoid crashing it.\n",
      "To change this limit, set the config variable\n",
      "`--NotebookApp.iopub_msg_rate_limit`.\n",
      "\n",
      "Current values:\n",
      "NotebookApp.iopub_msg_rate_limit=1000.0 (msgs/sec)\n",
      "NotebookApp.rate_limit_window=3.0 (secs)\n",
      "\n"
     ]
    },
    {
     "name": "stdout",
     "output_type": "stream",
     "text": [
      "782/782 [==============================] - 50s 63ms/step - loss: 0.0475 - acc: 0.9839 - val_loss: 0.4418 - val_acc: 0.8971\n",
      "Epoch 294/300\n",
      "epoch:  293\n",
      "Learning rate:  0.0001\n",
      "782/782 [==============================] - 49s 62ms/step - loss: 0.0470 - acc: 0.9838 - val_loss: 0.4398 - val_acc: 0.8972\n",
      "Epoch 295/300\n",
      "epoch:  294\n",
      "Learning rate:  0.0001\n",
      "140/782 [====>.........................] - ETA: 38s - loss: 0.0509 - acc: 0.9843"
     ]
    },
    {
     "name": "stderr",
     "output_type": "stream",
     "text": [
      "IOPub message rate exceeded.\n",
      "The notebook server will temporarily stop sending output\n",
      "to the client in order to avoid crashing it.\n",
      "To change this limit, set the config variable\n",
      "`--NotebookApp.iopub_msg_rate_limit`.\n",
      "\n",
      "Current values:\n",
      "NotebookApp.iopub_msg_rate_limit=1000.0 (msgs/sec)\n",
      "NotebookApp.rate_limit_window=3.0 (secs)\n",
      "\n"
     ]
    }
   ],
   "source": [
    "set_start_lr = 1e-1\n",
    "lr_reduce_per_epoch = 100\n",
    "lr_reduce = 10\n",
    "\n",
    "def lr_schedule(epoch):\n",
    "    lr = 1e-1\n",
    "    if epoch > 225:\n",
    "        lr *= 1e-3\n",
    "    elif epoch > 150:\n",
    "        lr *= 1e-2\n",
    "    print('epoch: ', epoch)\n",
    "    print('Learning rate: ', lr)\n",
    "    return lr\n",
    "\n",
    "\n",
    "# sgd = SGD(lr=1e-2, decay=1e-6, momentum=0.9, nesterov=True)\n",
    "# model.compile(optimizer=sgd, loss='categorical_crossentropy', metrics=['accuracy'])\n",
    "\n",
    "sgd = SGD(lr=lr_schedule(0), decay=1e-4, momentum=0.9, nesterov=True)\n",
    "model.compile(optimizer=sgd, loss='categorical_crossentropy', metrics=['accuracy'])\n",
    "\n",
    "\n",
    "\n",
    "csv_logger_path = os.getcwd()+f\"/{model.name}\\\n",
    "(cifar10, \\\n",
    "batch_size=64, \\\n",
    "data_set norm and mean_pixel_subtract, \\\n",
    "rendom_erasing, \\\n",
    "data_generator)_log.csv\"\n",
    "\n",
    "if not os.path.isdir(os.path.dirname(csv_logger_path)):\n",
    "    os.makedirs(os.path.dirname(csv_logger_path))\n",
    "csv_logger = CSVLogger(csv_logger_path, append=True)\n",
    "    \n",
    "lr_scheduler = LearningRateScheduler(schedule=lr_schedule)\n",
    "\n",
    "callbacks = [csv_logger, lr_scheduler]\n",
    "\n",
    "model.fit_generator(train_iterator,\n",
    "                    steps_per_epoch = len(train_iterator),\n",
    "                    validation_data=test_iterator,\n",
    "                    epochs=300, verbose=1, workers=4,\n",
    "                    callbacks=callbacks)\n"
   ]
  },
  {
   "cell_type": "code",
   "execution_count": null,
   "metadata": {},
   "outputs": [],
   "source": [
    "train_data_generator"
   ]
  },
  {
   "cell_type": "code",
   "execution_count": null,
   "metadata": {},
   "outputs": [],
   "source": [
    "300*0.5"
   ]
  },
  {
   "cell_type": "code",
   "execution_count": null,
   "metadata": {},
   "outputs": [],
   "source": [
    "from IPython.display import SVG\n",
    "from keras.utils.vis_utils import model_to_dot\n",
    "%matplotlib inline\n",
    "SVG(model_to_dot(model, show_shapes=True).create(prog='dot', format='svg'))\n"
   ]
  },
  {
   "cell_type": "code",
   "execution_count": 13,
   "metadata": {},
   "outputs": [
    {
     "name": "stdout",
     "output_type": "stream",
     "text": [
      "157/157 [==============================] - 2s 12ms/step\n",
      "Test loss: 0.4421790162086487\n",
      "Test accuracy: 0.8969\n"
     ]
    }
   ],
   "source": [
    "scores = model.evaluate_generator(test_data_generator.flow(x_test, y_test, batch_size=64), verbose=1)\n",
    "print('Test loss:', scores[0])\n",
    "print('Test accuracy:', scores[1])"
   ]
  },
  {
   "cell_type": "code",
   "execution_count": null,
   "metadata": {},
   "outputs": [],
   "source": []
  },
  {
   "cell_type": "code",
   "execution_count": null,
   "metadata": {},
   "outputs": [],
   "source": []
  }
 ],
 "metadata": {
  "kernelspec": {
   "display_name": "Python 3",
   "language": "python",
   "name": "python3"
  },
  "language_info": {
   "codemirror_mode": {
    "name": "ipython",
    "version": 3
   },
   "file_extension": ".py",
   "mimetype": "text/x-python",
   "name": "python",
   "nbconvert_exporter": "python",
   "pygments_lexer": "ipython3",
   "version": "3.6.9"
  }
 },
 "nbformat": 4,
 "nbformat_minor": 2
}
